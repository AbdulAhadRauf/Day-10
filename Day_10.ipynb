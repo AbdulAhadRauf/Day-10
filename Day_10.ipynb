{
  "nbformat": 4,
  "nbformat_minor": 0,
  "metadata": {
    "colab": {
      "provenance": [],
      "authorship_tag": "ABX9TyPYURPFVBxwJHZFdMdzh7+7",
      "include_colab_link": true
    },
    "kernelspec": {
      "name": "python3",
      "display_name": "Python 3"
    },
    "language_info": {
      "name": "python"
    }
  },
  "cells": [
    {
      "cell_type": "markdown",
      "metadata": {
        "id": "view-in-github",
        "colab_type": "text"
      },
      "source": [
        "<a href=\"https://colab.research.google.com/github/AbdulAhadRauf/Day-10/blob/main/Day_10.ipynb\" target=\"_parent\"><img src=\"https://colab.research.google.com/assets/colab-badge.svg\" alt=\"Open In Colab\"/></a>"
      ]
    },
    {
      "cell_type": "markdown",
      "source": [
        "# Functions with Outputs"
      ],
      "metadata": {
        "id": "LzX88NmbR_CQ"
      }
    },
    {
      "cell_type": "markdown",
      "source": [
        "To make upper()\n",
        "---"
      ],
      "metadata": {
        "id": "TEjSMm8kTJMI"
      }
    },
    {
      "cell_type": "code",
      "source": [
        "def toceilXD(firstname, lastname):\n",
        "  firstname=firstname.upper()\n",
        "  lastname=lastname.upper()\n",
        "  return(firstname,lastname)\n",
        "\n",
        "print(' '.join(toceilXD(\"aBdUl AHaD\", \"RAUf\")))"
      ],
      "metadata": {
        "colab": {
          "base_uri": "https://localhost:8080/"
        },
        "id": "zo55w1HnSFAp",
        "outputId": "bd45c9c9-90dc-49b4-95d4-683d292426c5"
      },
      "execution_count": 24,
      "outputs": [
        {
          "output_type": "stream",
          "name": "stdout",
          "text": [
            "ABDUL AHAD RAUF\n"
          ]
        }
      ]
    },
    {
      "cell_type": "markdown",
      "source": [
        "To use .title()\n",
        "---"
      ],
      "metadata": {
        "id": "8LtlVpftTiG_"
      }
    },
    {
      "cell_type": "code",
      "source": [
        "def make_a_title(firstname, lastname):\n",
        "  firstname = firstname.title()\n",
        "  lastname = lastname.title()\n",
        "  return(firstname, lastname)\n",
        "print(\" \".join(make_a_title(\"aBdUl AHaD\", \"RAUf\")))"
      ],
      "metadata": {
        "colab": {
          "base_uri": "https://localhost:8080/"
        },
        "id": "lZ9S1Cq-Tmt_",
        "outputId": "e1ac2d23-80ad-4ffb-dec2-da0f265dcfe3"
      },
      "execution_count": 25,
      "outputs": [
        {
          "output_type": "stream",
          "name": "stdout",
          "text": [
            "Abdul Ahad Rauf\n"
          ]
        }
      ]
    },
    {
      "cell_type": "markdown",
      "source": [
        "Leap Year and Days in Month\n",
        "---"
      ],
      "metadata": {
        "id": "IcrIw6WbZ4Bp"
      }
    },
    {
      "cell_type": "code",
      "source": [
        "def isleap(year):\n",
        "  if year %4==0:\n",
        "    if year%100==0:\n",
        "      if year % 400==0:\n",
        "        return True\n",
        "      else:\n",
        "        return False\n",
        "    else:\n",
        "      return True\n",
        "  else:\n",
        "    return False\n",
        "\n",
        "def dayswalafnctn():\n",
        "  if isleap(year):\n",
        "    month_list[1] += 1\n",
        "    return f'The year is leap and the days are {month_list[month-1]}'\n",
        "  else:\n",
        "    return f'The year is not leap and the days are {month_list[month-1]}'"
      ],
      "metadata": {
        "id": "sK0xBVOLZ7Vo"
      },
      "execution_count": 31,
      "outputs": []
    },
    {
      "cell_type": "code",
      "source": [
        "year = int(input(\"Enter the year \"))\n",
        "month = int(input(\"Enter the month in number \"))\n",
        "month_list = [31,28,31,30,31,30,31,31,30,31,30,31]\n",
        "\n",
        "print(dayswalafnctn())"
      ],
      "metadata": {
        "colab": {
          "base_uri": "https://localhost:8080/"
        },
        "id": "n-yCtm8YbZ_Q",
        "outputId": "2c55442c-a006-4ad4-f708-8fcd4ae29eab"
      },
      "execution_count": 34,
      "outputs": [
        {
          "output_type": "stream",
          "name": "stdout",
          "text": [
            "Enter the year 2023\n",
            "Enter the month in number 2\n",
            "The year is not leap and the days are 28\n"
          ]
        }
      ]
    }
  ]
}